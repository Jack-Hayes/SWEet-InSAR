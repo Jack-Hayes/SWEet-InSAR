{
 "cells": [
  {
   "cell_type": "code",
   "execution_count": 129,
   "metadata": {},
   "outputs": [],
   "source": [
    "import geopandas as gpd\n",
    "import xarray as xr\n",
    "from shapely.geometry import box\n",
    "import numpy as np\n",
    "from subprocess import call\n",
    "import h5py\n",
    "import matplotlib.pyplot as plt\n",
    "import pandas as pd\n",
    "import sys\n",
    "sys.path.append('..')\n",
    "from misc.unwrap import unwrap_phase_fft\n",
    "import easysnowdata as esd\n",
    "import glob\n",
    "from tqdm import tqdm"
   ]
  },
  {
   "cell_type": "code",
   "execution_count": 72,
   "metadata": {},
   "outputs": [],
   "source": [
    "fn_1 = \"/home/jehayes/sh_final/cslc/asc/OPERA_L2_CSLC-S1_T049-103322-IW2_20180103T010924Z_20240428T014600Z_S1B_VV_v1.1.h5\"\n",
    "fn_2 = \"/home/jehayes/sh_final/cslc/asc/OPERA_L2_CSLC-S1_T049-103322-IW2_20180115T010923Z_20240428T051456Z_S1B_VV_v1.1.h5\"\n",
    "dsR = xr.open_dataset(fn_1,\n",
    "                      group='data',\n",
    "                      engine='h5netcdf')['VV'].rename(dict(x_coordinates='x', y_coordinates='y'))\n",
    "tR = pd.to_datetime(xr.open_dataset(fn_1, \n",
    "                                    group='identification')['zero_doppler_start_time'].data.astype('U'))\n",
    "dsS = xr.open_dataset(fn_2,\n",
    "                      group='data',\n",
    "                      engine='h5netcdf')['VV'].rename(dict(x_coordinates='x', y_coordinates='y'))\n",
    "tS = pd.to_datetime(xr.open_dataset(fn_2, group='identification')['zero_doppler_start_time'].data.astype('U'))"
   ]
  },
  {
   "cell_type": "code",
   "execution_count": 73,
   "metadata": {},
   "outputs": [],
   "source": [
    "with h5py.File(fn_1, 'r') as f:\n",
    "    flat_phase1 = f['data/flattening_phase'][()]\n",
    "with h5py.File(fn_2, 'r') as f:\n",
    "    flat_phase2 = f['data/flattening_phase'][()]\n",
    "with h5py.File(fn_1, 'r') as f:\n",
    "    crs = f['/metadata/noise_information/projection'][()] \n",
    "diff_flat_phase = flat_phase2 - flat_phase1\n",
    "da_wrapped_phase = xr.DataArray(\n",
    "    diff_flat_phase,\n",
    "    dims=['y', 'x'],\n",
    "    coords={'y': dsS.y, 'x': dsS.x}\n",
    ").rio.write_crs(crs)"
   ]
  },
  {
   "cell_type": "code",
   "execution_count": 75,
   "metadata": {},
   "outputs": [],
   "source": [
    "np_wrapped_phase = da_wrapped_phase.values\n",
    "np_unwrapped = unwrap_phase_fft(np_wrapped_phase)\n",
    "da_unwrapped = xr.DataArray(np_unwrapped, \n",
    "                            dims=da_wrapped_phase.dims, \n",
    "                            coords=da_wrapped_phase.coords).rio.write_crs(crs)\n",
    "da_unwrapped = da_unwrapped.where(~np.isnan(da_wrapped_phase))"
   ]
  },
  {
   "cell_type": "code",
   "execution_count": 76,
   "metadata": {},
   "outputs": [],
   "source": [
    "wavelength = 0.055\n",
    "da_displacement = da_unwrapped * (wavelength / (4 * np.pi))"
   ]
  },
  {
   "cell_type": "code",
   "execution_count": 77,
   "metadata": {},
   "outputs": [],
   "source": [
    "gf_snotel = gpd.read_file(\n",
    "    \"https://github.com/egagli/snotel_ccss_stations/raw/main/all_stations.geojson\"\n",
    "    ).set_index(\"code\")\n",
    "gf_snotel = gf_snotel[gf_snotel.network == \"SNOTEL\"].reset_index()\n",
    "sntl_codes = ['589_CO_SNTL', '1185_CO_SNTL', '465_CO_SNTL', \n",
    "              '586_CO_SNTL', '629_CO_SNTL', '713_CO_SNTL', '538_CO_SNTL']\n",
    "gf_snotel_co_4326 = gf_snotel[gf_snotel.code.isin(sntl_codes)]\n",
    "gf_snotel_co = gf_snotel_co_4326.to_crs(crs)"
   ]
  },
  {
   "cell_type": "code",
   "execution_count": null,
   "metadata": {},
   "outputs": [],
   "source": [
    "#import xyzservices.providers as xyz\n",
    "#import odc.geo.xr\n",
    "#m = da_displacement.odc.explore(tiles=xyz.OpenStreetMap.Mapnik, cmap=\"hsv\")\n",
    "#gf_snotel_co[gf_snotel_co['code'] == sntl_codes[0]].explore(m=m, color='red', marker_kwds={'radius': 8})"
   ]
  },
  {
   "cell_type": "code",
   "execution_count": 119,
   "metadata": {},
   "outputs": [
    {
     "name": "stdout",
     "output_type": "stream",
     "text": [
      "Geodataframe with all stations has been added to the Station object. Please use the .all_stations attribute to access.\n",
      "Use the .get_data(stations=geodataframe/string/list,variables=string/list,start_date=str,end_date=str) method to fetch data for specific stations and variables.\n",
      "Only one station chosen with variables=None. Default behavior fetches all variables for this station.\n",
      "Dataframe has been added to the Station object. Please use the .data attribute to access.\n",
      "Geodataframe with all stations has been added to the Station object. Please use the .all_stations attribute to access.\n",
      "Use the .get_data(stations=geodataframe/string/list,variables=string/list,start_date=str,end_date=str) method to fetch data for specific stations and variables.\n",
      "Only one station chosen with variables=None. Default behavior fetches all variables for this station.\n",
      "Dataframe has been added to the Station object. Please use the .data attribute to access.\n",
      "Geodataframe with all stations has been added to the Station object. Please use the .all_stations attribute to access.\n",
      "Use the .get_data(stations=geodataframe/string/list,variables=string/list,start_date=str,end_date=str) method to fetch data for specific stations and variables.\n",
      "Only one station chosen with variables=None. Default behavior fetches all variables for this station.\n",
      "Dataframe has been added to the Station object. Please use the .data attribute to access.\n",
      "Geodataframe with all stations has been added to the Station object. Please use the .all_stations attribute to access.\n",
      "Use the .get_data(stations=geodataframe/string/list,variables=string/list,start_date=str,end_date=str) method to fetch data for specific stations and variables.\n",
      "Only one station chosen with variables=None. Default behavior fetches all variables for this station.\n",
      "Dataframe has been added to the Station object. Please use the .data attribute to access.\n",
      "Geodataframe with all stations has been added to the Station object. Please use the .all_stations attribute to access.\n",
      "Use the .get_data(stations=geodataframe/string/list,variables=string/list,start_date=str,end_date=str) method to fetch data for specific stations and variables.\n",
      "Only one station chosen with variables=None. Default behavior fetches all variables for this station.\n",
      "Dataframe has been added to the Station object. Please use the .data attribute to access.\n",
      "Geodataframe with all stations has been added to the Station object. Please use the .all_stations attribute to access.\n",
      "Use the .get_data(stations=geodataframe/string/list,variables=string/list,start_date=str,end_date=str) method to fetch data for specific stations and variables.\n",
      "Only one station chosen with variables=None. Default behavior fetches all variables for this station.\n",
      "Dataframe has been added to the Station object. Please use the .data attribute to access.\n",
      "Geodataframe with all stations has been added to the Station object. Please use the .all_stations attribute to access.\n",
      "Use the .get_data(stations=geodataframe/string/list,variables=string/list,start_date=str,end_date=str) method to fetch data for specific stations and variables.\n",
      "Only one station chosen with variables=None. Default behavior fetches all variables for this station.\n",
      "Dataframe has been added to the Station object. Please use the .data attribute to access.\n"
     ]
    }
   ],
   "source": [
    "results = []\n",
    "for code in sntl_codes:\n",
    "    # get SNOTEL data\n",
    "    snotel = esd.automatic_weather_stations.StationCollection()\n",
    "    snotel.get_data(code)\n",
    "    df_snotel = snotel.data\n",
    "    swe_reference, swe_secondary = df_snotel.loc[[tR.date(), tS.date()], \"WTEQ\"]\n",
    "    swe_diff = swe_secondary - swe_reference\n",
    "    \n",
    "    # get InSAR displacement at SNOTEL location\n",
    "    snotel_point = gf_snotel_co.loc[gf_snotel_co['code'] == code, 'geometry'].item()\n",
    "    snotel_los_disp = da_displacement.interp(x=snotel_point.x, y=snotel_point.y, method=\"linear\").item()\n",
    "    \n",
    "    # make a df for easier interpretation\n",
    "    results.append({\n",
    "        'sntl_code': code,\n",
    "        'reference_date': tR.date(),\n",
    "        'secondary_date': tS.date(),\n",
    "        'snotel_los_disp': snotel_los_disp,\n",
    "        'swe_diff': swe_diff\n",
    "    })\n",
    "\n",
    "df_swe = pd.DataFrame(results)"
   ]
  },
  {
   "cell_type": "code",
   "execution_count": null,
   "metadata": {},
   "outputs": [
    {
     "data": {
      "text/html": [
       "<div>\n",
       "<style scoped>\n",
       "    .dataframe tbody tr th:only-of-type {\n",
       "        vertical-align: middle;\n",
       "    }\n",
       "\n",
       "    .dataframe tbody tr th {\n",
       "        vertical-align: top;\n",
       "    }\n",
       "\n",
       "    .dataframe thead th {\n",
       "        text-align: right;\n",
       "    }\n",
       "</style>\n",
       "<table border=\"1\" class=\"dataframe\">\n",
       "  <thead>\n",
       "    <tr style=\"text-align: right;\">\n",
       "      <th></th>\n",
       "      <th>sntl_code</th>\n",
       "      <th>reference_date</th>\n",
       "      <th>secondary_date</th>\n",
       "      <th>snotel_los_disp</th>\n",
       "      <th>swe_diff</th>\n",
       "    </tr>\n",
       "  </thead>\n",
       "  <tbody>\n",
       "    <tr>\n",
       "      <th>0</th>\n",
       "      <td>589_CO_SNTL</td>\n",
       "      <td>2018-01-03</td>\n",
       "      <td>2018-01-15</td>\n",
       "      <td>0.004076</td>\n",
       "      <td>0.0356</td>\n",
       "    </tr>\n",
       "    <tr>\n",
       "      <th>1</th>\n",
       "      <td>1185_CO_SNTL</td>\n",
       "      <td>2018-01-03</td>\n",
       "      <td>2018-01-15</td>\n",
       "      <td>-0.022206</td>\n",
       "      <td>0.0432</td>\n",
       "    </tr>\n",
       "    <tr>\n",
       "      <th>2</th>\n",
       "      <td>465_CO_SNTL</td>\n",
       "      <td>2018-01-03</td>\n",
       "      <td>2018-01-15</td>\n",
       "      <td>-0.020573</td>\n",
       "      <td>0.0407</td>\n",
       "    </tr>\n",
       "    <tr>\n",
       "      <th>3</th>\n",
       "      <td>586_CO_SNTL</td>\n",
       "      <td>2018-01-03</td>\n",
       "      <td>2018-01-15</td>\n",
       "      <td>-0.011298</td>\n",
       "      <td>0.0356</td>\n",
       "    </tr>\n",
       "    <tr>\n",
       "      <th>4</th>\n",
       "      <td>629_CO_SNTL</td>\n",
       "      <td>2018-01-03</td>\n",
       "      <td>2018-01-15</td>\n",
       "      <td>0.010425</td>\n",
       "      <td>0.0406</td>\n",
       "    </tr>\n",
       "    <tr>\n",
       "      <th>5</th>\n",
       "      <td>713_CO_SNTL</td>\n",
       "      <td>2018-01-03</td>\n",
       "      <td>2018-01-15</td>\n",
       "      <td>0.034479</td>\n",
       "      <td>0.0711</td>\n",
       "    </tr>\n",
       "    <tr>\n",
       "      <th>6</th>\n",
       "      <td>538_CO_SNTL</td>\n",
       "      <td>2018-01-03</td>\n",
       "      <td>2018-01-15</td>\n",
       "      <td>0.043577</td>\n",
       "      <td>0.0458</td>\n",
       "    </tr>\n",
       "  </tbody>\n",
       "</table>\n",
       "</div>"
      ],
      "text/plain": [
       "      sntl_code reference_date secondary_date  snotel_los_disp  swe_diff\n",
       "0   589_CO_SNTL     2018-01-03     2018-01-15         0.004076    0.0356\n",
       "1  1185_CO_SNTL     2018-01-03     2018-01-15        -0.022206    0.0432\n",
       "2   465_CO_SNTL     2018-01-03     2018-01-15        -0.020573    0.0407\n",
       "3   586_CO_SNTL     2018-01-03     2018-01-15        -0.011298    0.0356\n",
       "4   629_CO_SNTL     2018-01-03     2018-01-15         0.010425    0.0406\n",
       "5   713_CO_SNTL     2018-01-03     2018-01-15         0.034479    0.0711\n",
       "6   538_CO_SNTL     2018-01-03     2018-01-15         0.043577    0.0458"
      ]
     },
     "execution_count": 118,
     "metadata": {},
     "output_type": "execute_result"
    }
   ],
   "source": [
    "# ruh roh raggy, these results don't look promising\n",
    "df_swe"
   ]
  },
  {
   "cell_type": "code",
   "execution_count": 122,
   "metadata": {},
   "outputs": [
    {
     "data": {
      "image/png": "[encoded data removed]",
      "text/plain": [
       "<Figure size 640x480 with 1 Axes>"
      ]
     },
     "metadata": {},
     "output_type": "display_data"
    }
   ],
   "source": [
    "plt.scatter(x=df_swe.snotel_los_disp,\n",
    "            y=df_swe.swe_diff)\n",
    "plt.ylabel(\"SWE\")\n",
    "plt.xlabel(\"LOS Displacement\");"
   ]
  },
  {
   "cell_type": "code",
   "execution_count": null,
   "metadata": {},
   "outputs": [],
   "source": [
    "# oh yeah, superrrrrr obvious relationship\n",
    "# let's process some more data and hopefully get some more insight on if this is actually feasible"
   ]
  },
  {
   "cell_type": "markdown",
   "metadata": {},
   "source": [
    "Reference 00_SAR_intro.ipynb for how we're searching for Sentinel-1 bursts below"
   ]
  },
  {
   "cell_type": "code",
   "execution_count": null,
   "metadata": {},
   "outputs": [],
   "source": [
    "import asf_search\n",
    "bounds = gf_snotel_co_4326.total_bounds\n",
    "gf_search = gpd.GeoDataFrame(\n",
    "    geometry=[box(bounds[0], bounds[1], bounds[2], bounds[3])],\n",
    "    crs=\"EPSG:4326\"\n",
    ")\n",
    "wkt_search = gf_search.geometry.to_wkt().iloc[0]\n",
    "# let's arbitrarily look for Jan-March\n",
    "# stick to ascending only for now\n",
    "parms = {\n",
    "        'dataset':asf_search.DATASET.OPERA_S1,\n",
    "        'processingLevel':asf_search.PRODUCT_TYPE.CSLC,\n",
    "        'intersectsWith':wkt_search,\n",
    "        'operaBurstID':['T049_103322_IW2', 'T129_275785_IW1'],\n",
    "        'start':'2018-01-01T00:00:00Z',\n",
    "        'end':'2018-03-31T00:00:00Z',\n",
    "        'flightDirection':asf_search.FLIGHT_DIRECTION.ASCENDING,\n",
    "        'maxResults':100,\n",
    "}"
   ]
  },
  {
   "cell_type": "code",
   "execution_count": null,
   "metadata": {},
   "outputs": [],
   "source": [
    "burst_hits = asf_search.search(**parms)\n",
    "len(burst_hits)"
   ]
  },
  {
   "cell_type": "code",
   "execution_count": 127,
   "metadata": {},
   "outputs": [],
   "source": [
    "all_urls = [url for item in burst_hits for url in [item.properties['url']]]"
   ]
  },
  {
   "cell_type": "code",
   "execution_count": null,
   "metadata": {},
   "outputs": [],
   "source": [
    "asf_search.download_urls(urls=all_urls, path='/home/jehayes/sh_final/cslc/asc')"
   ]
  },
  {
   "cell_type": "code",
   "execution_count": 131,
   "metadata": {},
   "outputs": [
    {
     "name": "stderr",
     "output_type": "stream",
     "text": [
      "Processing pairs:   0%|          | 0/5 [00:00<?, ?it/s]"
     ]
    },
    {
     "name": "stdout",
     "output_type": "stream",
     "text": [
      "Geodataframe with all stations has been added to the Station object. Please use the .all_stations attribute to access.\n",
      "Use the .get_data(stations=geodataframe/string/list,variables=string/list,start_date=str,end_date=str) method to fetch data for specific stations and variables.\n",
      "Only one station chosen with variables=None. Default behavior fetches all variables for this station.\n",
      "Dataframe has been added to the Station object. Please use the .data attribute to access.\n",
      "Geodataframe with all stations has been added to the Station object. Please use the .all_stations attribute to access.\n",
      "Use the .get_data(stations=geodataframe/string/list,variables=string/list,start_date=str,end_date=str) method to fetch data for specific stations and variables.\n",
      "Only one station chosen with variables=None. Default behavior fetches all variables for this station.\n",
      "Dataframe has been added to the Station object. Please use the .data attribute to access.\n",
      "Geodataframe with all stations has been added to the Station object. Please use the .all_stations attribute to access.\n",
      "Use the .get_data(stations=geodataframe/string/list,variables=string/list,start_date=str,end_date=str) method to fetch data for specific stations and variables.\n",
      "Only one station chosen with variables=None. Default behavior fetches all variables for this station.\n",
      "Dataframe has been added to the Station object. Please use the .data attribute to access.\n",
      "Geodataframe with all stations has been added to the Station object. Please use the .all_stations attribute to access.\n",
      "Use the .get_data(stations=geodataframe/string/list,variables=string/list,start_date=str,end_date=str) method to fetch data for specific stations and variables.\n",
      "Only one station chosen with variables=None. Default behavior fetches all variables for this station.\n",
      "Dataframe has been added to the Station object. Please use the .data attribute to access.\n",
      "Geodataframe with all stations has been added to the Station object. Please use the .all_stations attribute to access.\n",
      "Use the .get_data(stations=geodataframe/string/list,variables=string/list,start_date=str,end_date=str) method to fetch data for specific stations and variables.\n",
      "Only one station chosen with variables=None. Default behavior fetches all variables for this station.\n",
      "Dataframe has been added to the Station object. Please use the .data attribute to access.\n",
      "Geodataframe with all stations has been added to the Station object. Please use the .all_stations attribute to access.\n",
      "Use the .get_data(stations=geodataframe/string/list,variables=string/list,start_date=str,end_date=str) method to fetch data for specific stations and variables.\n",
      "Only one station chosen with variables=None. Default behavior fetches all variables for this station.\n",
      "Dataframe has been added to the Station object. Please use the .data attribute to access.\n",
      "Geodataframe with all stations has been added to the Station object. Please use the .all_stations attribute to access.\n",
      "Use the .get_data(stations=geodataframe/string/list,variables=string/list,start_date=str,end_date=str) method to fetch data for specific stations and variables.\n",
      "Only one station chosen with variables=None. Default behavior fetches all variables for this station.\n",
      "Dataframe has been added to the Station object. Please use the .data attribute to access.\n"
     ]
    },
    {
     "name": "stderr",
     "output_type": "stream",
     "text": [
      "Processing pairs:  20%|██        | 1/5 [01:01<04:07, 61.87s/it]"
     ]
    },
    {
     "name": "stdout",
     "output_type": "stream",
     "text": [
      "Geodataframe with all stations has been added to the Station object. Please use the .all_stations attribute to access.\n",
      "Use the .get_data(stations=geodataframe/string/list,variables=string/list,start_date=str,end_date=str) method to fetch data for specific stations and variables.\n",
      "Only one station chosen with variables=None. Default behavior fetches all variables for this station.\n",
      "Dataframe has been added to the Station object. Please use the .data attribute to access.\n",
      "Geodataframe with all stations has been added to the Station object. Please use the .all_stations attribute to access.\n",
      "Use the .get_data(stations=geodataframe/string/list,variables=string/list,start_date=str,end_date=str) method to fetch data for specific stations and variables.\n",
      "Only one station chosen with variables=None. Default behavior fetches all variables for this station.\n",
      "Dataframe has been added to the Station object. Please use the .data attribute to access.\n",
      "Geodataframe with all stations has been added to the Station object. Please use the .all_stations attribute to access.\n",
      "Use the .get_data(stations=geodataframe/string/list,variables=string/list,start_date=str,end_date=str) method to fetch data for specific stations and variables.\n",
      "Only one station chosen with variables=None. Default behavior fetches all variables for this station.\n",
      "Dataframe has been added to the Station object. Please use the .data attribute to access.\n",
      "Geodataframe with all stations has been added to the Station object. Please use the .all_stations attribute to access.\n",
      "Use the .get_data(stations=geodataframe/string/list,variables=string/list,start_date=str,end_date=str) method to fetch data for specific stations and variables.\n",
      "Only one station chosen with variables=None. Default behavior fetches all variables for this station.\n",
      "Dataframe has been added to the Station object. Please use the .data attribute to access.\n",
      "Geodataframe with all stations has been added to the Station object. Please use the .all_stations attribute to access.\n",
      "Use the .get_data(stations=geodataframe/string/list,variables=string/list,start_date=str,end_date=str) method to fetch data for specific stations and variables.\n",
      "Only one station chosen with variables=None. Default behavior fetches all variables for this station.\n",
      "Dataframe has been added to the Station object. Please use the .data attribute to access.\n",
      "Geodataframe with all stations has been added to the Station object. Please use the .all_stations attribute to access.\n",
      "Use the .get_data(stations=geodataframe/string/list,variables=string/list,start_date=str,end_date=str) method to fetch data for specific stations and variables.\n",
      "Only one station chosen with variables=None. Default behavior fetches all variables for this station.\n",
      "Dataframe has been added to the Station object. Please use the .data attribute to access.\n",
      "Geodataframe with all stations has been added to the Station object. Please use the .all_stations attribute to access.\n",
      "Use the .get_data(stations=geodataframe/string/list,variables=string/list,start_date=str,end_date=str) method to fetch data for specific stations and variables.\n",
      "Only one station chosen with variables=None. Default behavior fetches all variables for this station.\n",
      "Dataframe has been added to the Station object. Please use the .data attribute to access.\n"
     ]
    },
    {
     "name": "stderr",
     "output_type": "stream",
     "text": [
      "Processing pairs:  40%|████      | 2/5 [02:15<03:26, 68.80s/it]"
     ]
    },
    {
     "name": "stdout",
     "output_type": "stream",
     "text": [
      "Geodataframe with all stations has been added to the Station object. Please use the .all_stations attribute to access.\n",
      "Use the .get_data(stations=geodataframe/string/list,variables=string/list,start_date=str,end_date=str) method to fetch data for specific stations and variables.\n",
      "Only one station chosen with variables=None. Default behavior fetches all variables for this station.\n",
      "Dataframe has been added to the Station object. Please use the .data attribute to access.\n",
      "Geodataframe with all stations has been added to the Station object. Please use the .all_stations attribute to access.\n",
      "Use the .get_data(stations=geodataframe/string/list,variables=string/list,start_date=str,end_date=str) method to fetch data for specific stations and variables.\n",
      "Only one station chosen with variables=None. Default behavior fetches all variables for this station.\n",
      "Dataframe has been added to the Station object. Please use the .data attribute to access.\n",
      "Geodataframe with all stations has been added to the Station object. Please use the .all_stations attribute to access.\n",
      "Use the .get_data(stations=geodataframe/string/list,variables=string/list,start_date=str,end_date=str) method to fetch data for specific stations and variables.\n",
      "Only one station chosen with variables=None. Default behavior fetches all variables for this station.\n",
      "Dataframe has been added to the Station object. Please use the .data attribute to access.\n",
      "Geodataframe with all stations has been added to the Station object. Please use the .all_stations attribute to access.\n",
      "Use the .get_data(stations=geodataframe/string/list,variables=string/list,start_date=str,end_date=str) method to fetch data for specific stations and variables.\n",
      "Only one station chosen with variables=None. Default behavior fetches all variables for this station.\n",
      "Dataframe has been added to the Station object. Please use the .data attribute to access.\n",
      "Geodataframe with all stations has been added to the Station object. Please use the .all_stations attribute to access.\n",
      "Use the .get_data(stations=geodataframe/string/list,variables=string/list,start_date=str,end_date=str) method to fetch data for specific stations and variables.\n",
      "Only one station chosen with variables=None. Default behavior fetches all variables for this station.\n",
      "Dataframe has been added to the Station object. Please use the .data attribute to access.\n",
      "Geodataframe with all stations has been added to the Station object. Please use the .all_stations attribute to access.\n",
      "Use the .get_data(stations=geodataframe/string/list,variables=string/list,start_date=str,end_date=str) method to fetch data for specific stations and variables.\n",
      "Only one station chosen with variables=None. Default behavior fetches all variables for this station.\n",
      "Dataframe has been added to the Station object. Please use the .data attribute to access.\n",
      "Geodataframe with all stations has been added to the Station object. Please use the .all_stations attribute to access.\n",
      "Use the .get_data(stations=geodataframe/string/list,variables=string/list,start_date=str,end_date=str) method to fetch data for specific stations and variables.\n",
      "Only one station chosen with variables=None. Default behavior fetches all variables for this station.\n",
      "Dataframe has been added to the Station object. Please use the .data attribute to access.\n"
     ]
    },
    {
     "name": "stderr",
     "output_type": "stream",
     "text": [
      "Processing pairs:  60%|██████    | 3/5 [03:28<02:21, 70.53s/it]"
     ]
    },
    {
     "name": "stdout",
     "output_type": "stream",
     "text": [
      "Geodataframe with all stations has been added to the Station object. Please use the .all_stations attribute to access.\n",
      "Use the .get_data(stations=geodataframe/string/list,variables=string/list,start_date=str,end_date=str) method to fetch data for specific stations and variables.\n",
      "Only one station chosen with variables=None. Default behavior fetches all variables for this station.\n",
      "Dataframe has been added to the Station object. Please use the .data attribute to access.\n",
      "Geodataframe with all stations has been added to the Station object. Please use the .all_stations attribute to access.\n",
      "Use the .get_data(stations=geodataframe/string/list,variables=string/list,start_date=str,end_date=str) method to fetch data for specific stations and variables.\n",
      "Only one station chosen with variables=None. Default behavior fetches all variables for this station.\n",
      "Dataframe has been added to the Station object. Please use the .data attribute to access.\n",
      "Geodataframe with all stations has been added to the Station object. Please use the .all_stations attribute to access.\n",
      "Use the .get_data(stations=geodataframe/string/list,variables=string/list,start_date=str,end_date=str) method to fetch data for specific stations and variables.\n",
      "Only one station chosen with variables=None. Default behavior fetches all variables for this station.\n",
      "Dataframe has been added to the Station object. Please use the .data attribute to access.\n",
      "Geodataframe with all stations has been added to the Station object. Please use the .all_stations attribute to access.\n",
      "Use the .get_data(stations=geodataframe/string/list,variables=string/list,start_date=str,end_date=str) method to fetch data for specific stations and variables.\n",
      "Only one station chosen with variables=None. Default behavior fetches all variables for this station.\n",
      "Dataframe has been added to the Station object. Please use the .data attribute to access.\n",
      "Geodataframe with all stations has been added to the Station object. Please use the .all_stations attribute to access.\n",
      "Use the .get_data(stations=geodataframe/string/list,variables=string/list,start_date=str,end_date=str) method to fetch data for specific stations and variables.\n",
      "Only one station chosen with variables=None. Default behavior fetches all variables for this station.\n",
      "Dataframe has been added to the Station object. Please use the .data attribute to access.\n",
      "Geodataframe with all stations has been added to the Station object. Please use the .all_stations attribute to access.\n",
      "Use the .get_data(stations=geodataframe/string/list,variables=string/list,start_date=str,end_date=str) method to fetch data for specific stations and variables.\n",
      "Only one station chosen with variables=None. Default behavior fetches all variables for this station.\n",
      "Dataframe has been added to the Station object. Please use the .data attribute to access.\n",
      "Geodataframe with all stations has been added to the Station object. Please use the .all_stations attribute to access.\n",
      "Use the .get_data(stations=geodataframe/string/list,variables=string/list,start_date=str,end_date=str) method to fetch data for specific stations and variables.\n",
      "Only one station chosen with variables=None. Default behavior fetches all variables for this station.\n",
      "Dataframe has been added to the Station object. Please use the .data attribute to access.\n"
     ]
    },
    {
     "name": "stderr",
     "output_type": "stream",
     "text": [
      "Processing pairs:  80%|████████  | 4/5 [04:19<01:02, 62.80s/it]"
     ]
    },
    {
     "name": "stdout",
     "output_type": "stream",
     "text": [
      "Geodataframe with all stations has been added to the Station object. Please use the .all_stations attribute to access.\n",
      "Use the .get_data(stations=geodataframe/string/list,variables=string/list,start_date=str,end_date=str) method to fetch data for specific stations and variables.\n",
      "Only one station chosen with variables=None. Default behavior fetches all variables for this station.\n",
      "Dataframe has been added to the Station object. Please use the .data attribute to access.\n",
      "Geodataframe with all stations has been added to the Station object. Please use the .all_stations attribute to access.\n",
      "Use the .get_data(stations=geodataframe/string/list,variables=string/list,start_date=str,end_date=str) method to fetch data for specific stations and variables.\n",
      "Only one station chosen with variables=None. Default behavior fetches all variables for this station.\n",
      "Dataframe has been added to the Station object. Please use the .data attribute to access.\n",
      "Geodataframe with all stations has been added to the Station object. Please use the .all_stations attribute to access.\n",
      "Use the .get_data(stations=geodataframe/string/list,variables=string/list,start_date=str,end_date=str) method to fetch data for specific stations and variables.\n",
      "Only one station chosen with variables=None. Default behavior fetches all variables for this station.\n",
      "Dataframe has been added to the Station object. Please use the .data attribute to access.\n",
      "Geodataframe with all stations has been added to the Station object. Please use the .all_stations attribute to access.\n",
      "Use the .get_data(stations=geodataframe/string/list,variables=string/list,start_date=str,end_date=str) method to fetch data for specific stations and variables.\n",
      "Only one station chosen with variables=None. Default behavior fetches all variables for this station.\n",
      "Dataframe has been added to the Station object. Please use the .data attribute to access.\n",
      "Geodataframe with all stations has been added to the Station object. Please use the .all_stations attribute to access.\n",
      "Use the .get_data(stations=geodataframe/string/list,variables=string/list,start_date=str,end_date=str) method to fetch data for specific stations and variables.\n",
      "Only one station chosen with variables=None. Default behavior fetches all variables for this station.\n",
      "Dataframe has been added to the Station object. Please use the .data attribute to access.\n",
      "Geodataframe with all stations has been added to the Station object. Please use the .all_stations attribute to access.\n",
      "Use the .get_data(stations=geodataframe/string/list,variables=string/list,start_date=str,end_date=str) method to fetch data for specific stations and variables.\n",
      "Only one station chosen with variables=None. Default behavior fetches all variables for this station.\n",
      "Dataframe has been added to the Station object. Please use the .data attribute to access.\n",
      "Geodataframe with all stations has been added to the Station object. Please use the .all_stations attribute to access.\n",
      "Use the .get_data(stations=geodataframe/string/list,variables=string/list,start_date=str,end_date=str) method to fetch data for specific stations and variables.\n",
      "Only one station chosen with variables=None. Default behavior fetches all variables for this station.\n",
      "Dataframe has been added to the Station object. Please use the .data attribute to access.\n"
     ]
    },
    {
     "name": "stderr",
     "output_type": "stream",
     "text": [
      "Processing pairs: 100%|██████████| 5/5 [06:13<00:00, 74.62s/it]\n"
     ]
    }
   ],
   "source": [
    "# get all our asc files we just downloaded\n",
    "files = sorted(glob.glob('/home/jehayes/sh_final/cslc/asc/*.h5'))\n",
    "# process each consecutive pair\n",
    "# NOTE: there's more of an art to InSAR processing than just processing a pair every timestep\n",
    "# but for the sake of this porject, we'll stick to this method for now\n",
    "for i in tqdm(range(len(files)-1), desc=\"Processing pairs\"):\n",
    "    fn_1 = files[i]\n",
    "    fn_2 = files[i+1]\n",
    "    \n",
    "    # reference dataset\n",
    "    dsR = xr.open_dataset(fn_1, group='data', engine='h5netcdf')['VV'].rename(dict(x_coordinates='x', y_coordinates='y'))\n",
    "    tR = pd.to_datetime(xr.open_dataset(fn_1, group='identification')['zero_doppler_start_time'].data.astype('U'))\n",
    "    # secondary dataset\n",
    "    dsS = xr.open_dataset(fn_2, group='data', engine='h5netcdf')['VV'].rename(dict(x_coordinates='x', y_coordinates='y'))\n",
    "    tS = pd.to_datetime(xr.open_dataset(fn_2, group='identification')['zero_doppler_start_time'].data.astype('U'))   \n",
    "    # topographically corrected phases\n",
    "    with h5py.File(fn_1, 'r') as f:\n",
    "        flat_phase1 = f['data/flattening_phase'][()]\n",
    "        crs = f['/metadata/noise_information/projection'][()]\n",
    "    with h5py.File(fn_2, 'r') as f:\n",
    "        flat_phase2 = f['data/flattening_phase'][()]\n",
    "    # phase difference\n",
    "    diff_flat_phase = flat_phase2 - flat_phase1\n",
    "    da_wrapped_phase = xr.DataArray(\n",
    "        diff_flat_phase,\n",
    "        dims=['y', 'x'],\n",
    "        coords={'y': dsS.y, 'x': dsS.x}\n",
    "    ).rio.write_crs(crs)\n",
    "    # unwrap phase\n",
    "    np_wrapped_phase = da_wrapped_phase.values\n",
    "    np_unwrapped = unwrap_phase_fft(np_wrapped_phase)\n",
    "    da_unwrapped = xr.DataArray(np_unwrapped,\n",
    "                               dims=da_wrapped_phase.dims,\n",
    "                               coords=da_wrapped_phase.coords).rio.write_crs(crs)\n",
    "    da_unwrapped = da_unwrapped.where(~np.isnan(da_wrapped_phase))\n",
    "    da_displacement = da_unwrapped * (wavelength / (4 * np.pi))\n",
    "    \n",
    "    # process SNOTEL data\n",
    "    results = []\n",
    "    for code in sntl_codes:\n",
    "        snotel = esd.automatic_weather_stations.StationCollection()\n",
    "        snotel.get_data(code)\n",
    "        df_snotel = snotel.data\n",
    "        \n",
    "        swe_reference, swe_secondary = df_snotel.loc[[tR.date(), tS.date()], \"WTEQ\"]\n",
    "        swe_diff = swe_secondary - swe_reference\n",
    "        \n",
    "        snotel_point = gf_snotel_co.loc[gf_snotel_co['code'] == code, 'geometry'].item()\n",
    "        snotel_los_disp = da_displacement.interp(x=snotel_point.x, y=snotel_point.y, method=\"linear\").item()\n",
    "        \n",
    "        results.append({\n",
    "            'sntl_code': code,\n",
    "            'reference_date': tR.date(),\n",
    "            'secondary_date': tS.date(),\n",
    "            'snotel_los_disp': snotel_los_disp,\n",
    "            'swe_diff': swe_diff\n",
    "        })\n",
    "    # save DataFrame\n",
    "    df_swe = pd.DataFrame(results)\n",
    "    output_filename = f\"../data/{tR.date()}_{tS.date()}_swe_disp.parquet\"\n",
    "    df_swe.to_parquet(output_filename)"
   ]
  },
  {
   "cell_type": "code",
   "execution_count": 136,
   "metadata": {},
   "outputs": [
    {
     "data": {
      "text/plain": [
       "35"
      ]
     },
     "execution_count": 136,
     "metadata": {},
     "output_type": "execute_result"
    }
   ],
   "source": [
    "# now, let's inspect our five ascending pairs in Jan-March 2018 in southwestern CO\n",
    "df_swe_co_jan_mar = pd.concat([pd.read_parquet(f) for f in glob.glob(\"../data/*.parquet\")], ignore_index=True)\n",
    "len(df_swe_co_jan_mar)"
   ]
  },
  {
   "cell_type": "code",
   "execution_count": null,
   "metadata": {},
   "outputs": [
    {
     "data": {
      "image/png": "[encoded data removed]",
      "text/plain": [
       "<Figure size 640x480 with 1 Axes>"
      ]
     },
     "metadata": {},
     "output_type": "display_data"
    }
   ],
   "source": [
    "# that's not great...\n",
    "plt.scatter(x=df_swe_co_jan_mar.snotel_los_disp,\n",
    "            y=df_swe_co_jan_mar.swe_diff)\n",
    "plt.ylabel(\"SWE\")\n",
    "plt.xlabel(\"LOS Displacement\")\n",
    "plt.title(\"SWE vs InSAR Displacement\\nSouthwest Colorado Jan-March 2018\");"
   ]
  },
  {
   "cell_type": "code",
   "execution_count": 153,
   "metadata": {},
   "outputs": [],
   "source": [
    "# let's try descending now because why not\n",
    "parms.update({'flightDirection': asf_search.FLIGHT_DIRECTION.DESCENDING})"
   ]
  },
  {
   "cell_type": "code",
   "execution_count": 155,
   "metadata": {},
   "outputs": [
    {
     "data": {
      "text/plain": [
       "8"
      ]
     },
     "execution_count": 155,
     "metadata": {},
     "output_type": "execute_result"
    }
   ],
   "source": [
    "burst_hits = asf_search.search(**parms)\n",
    "len(burst_hits)"
   ]
  },
  {
   "cell_type": "code",
   "execution_count": 156,
   "metadata": {},
   "outputs": [],
   "source": [
    "all_urls = [url for item in burst_hits for url in [item.properties['url']]]\n",
    "asf_search.download_urls(urls=all_urls, path='/home/jehayes/sh_final/cslc/desc')"
   ]
  },
  {
   "cell_type": "code",
   "execution_count": 157,
   "metadata": {},
   "outputs": [
    {
     "name": "stderr",
     "output_type": "stream",
     "text": [
      "Processing pairs:   0%|          | 0/7 [00:00<?, ?it/s]"
     ]
    },
    {
     "name": "stdout",
     "output_type": "stream",
     "text": [
      "Geodataframe with all stations has been added to the Station object. Please use the .all_stations attribute to access.\n",
      "Use the .get_data(stations=geodataframe/string/list,variables=string/list,start_date=str,end_date=str) method to fetch data for specific stations and variables.\n",
      "Only one station chosen with variables=None. Default behavior fetches all variables for this station.\n",
      "Dataframe has been added to the Station object. Please use the .data attribute to access.\n",
      "Geodataframe with all stations has been added to the Station object. Please use the .all_stations attribute to access.\n",
      "Use the .get_data(stations=geodataframe/string/list,variables=string/list,start_date=str,end_date=str) method to fetch data for specific stations and variables.\n",
      "Only one station chosen with variables=None. Default behavior fetches all variables for this station.\n",
      "Dataframe has been added to the Station object. Please use the .data attribute to access.\n",
      "Geodataframe with all stations has been added to the Station object. Please use the .all_stations attribute to access.\n",
      "Use the .get_data(stations=geodataframe/string/list,variables=string/list,start_date=str,end_date=str) method to fetch data for specific stations and variables.\n",
      "Only one station chosen with variables=None. Default behavior fetches all variables for this station.\n",
      "Dataframe has been added to the Station object. Please use the .data attribute to access.\n",
      "Geodataframe with all stations has been added to the Station object. Please use the .all_stations attribute to access.\n",
      "Use the .get_data(stations=geodataframe/string/list,variables=string/list,start_date=str,end_date=str) method to fetch data for specific stations and variables.\n",
      "Only one station chosen with variables=None. Default behavior fetches all variables for this station.\n",
      "Dataframe has been added to the Station object. Please use the .data attribute to access.\n",
      "Geodataframe with all stations has been added to the Station object. Please use the .all_stations attribute to access.\n",
      "Use the .get_data(stations=geodataframe/string/list,variables=string/list,start_date=str,end_date=str) method to fetch data for specific stations and variables.\n",
      "Only one station chosen with variables=None. Default behavior fetches all variables for this station.\n",
      "Dataframe has been added to the Station object. Please use the .data attribute to access.\n",
      "Geodataframe with all stations has been added to the Station object. Please use the .all_stations attribute to access.\n",
      "Use the .get_data(stations=geodataframe/string/list,variables=string/list,start_date=str,end_date=str) method to fetch data for specific stations and variables.\n",
      "Only one station chosen with variables=None. Default behavior fetches all variables for this station.\n",
      "Dataframe has been added to the Station object. Please use the .data attribute to access.\n",
      "Geodataframe with all stations has been added to the Station object. Please use the .all_stations attribute to access.\n",
      "Use the .get_data(stations=geodataframe/string/list,variables=string/list,start_date=str,end_date=str) method to fetch data for specific stations and variables.\n",
      "Only one station chosen with variables=None. Default behavior fetches all variables for this station.\n",
      "Dataframe has been added to the Station object. Please use the .data attribute to access.\n"
     ]
    },
    {
     "name": "stderr",
     "output_type": "stream",
     "text": [
      "Processing pairs:  14%|█▍        | 1/7 [00:42<04:17, 42.94s/it]"
     ]
    },
    {
     "name": "stdout",
     "output_type": "stream",
     "text": [
      "Geodataframe with all stations has been added to the Station object. Please use the .all_stations attribute to access.\n",
      "Use the .get_data(stations=geodataframe/string/list,variables=string/list,start_date=str,end_date=str) method to fetch data for specific stations and variables.\n",
      "Only one station chosen with variables=None. Default behavior fetches all variables for this station.\n",
      "Dataframe has been added to the Station object. Please use the .data attribute to access.\n",
      "Geodataframe with all stations has been added to the Station object. Please use the .all_stations attribute to access.\n",
      "Use the .get_data(stations=geodataframe/string/list,variables=string/list,start_date=str,end_date=str) method to fetch data for specific stations and variables.\n",
      "Only one station chosen with variables=None. Default behavior fetches all variables for this station.\n",
      "Dataframe has been added to the Station object. Please use the .data attribute to access.\n",
      "Geodataframe with all stations has been added to the Station object. Please use the .all_stations attribute to access.\n",
      "Use the .get_data(stations=geodataframe/string/list,variables=string/list,start_date=str,end_date=str) method to fetch data for specific stations and variables.\n",
      "Only one station chosen with variables=None. Default behavior fetches all variables for this station.\n",
      "Dataframe has been added to the Station object. Please use the .data attribute to access.\n",
      "Geodataframe with all stations has been added to the Station object. Please use the .all_stations attribute to access.\n",
      "Use the .get_data(stations=geodataframe/string/list,variables=string/list,start_date=str,end_date=str) method to fetch data for specific stations and variables.\n",
      "Only one station chosen with variables=None. Default behavior fetches all variables for this station.\n",
      "Dataframe has been added to the Station object. Please use the .data attribute to access.\n",
      "Geodataframe with all stations has been added to the Station object. Please use the .all_stations attribute to access.\n",
      "Use the .get_data(stations=geodataframe/string/list,variables=string/list,start_date=str,end_date=str) method to fetch data for specific stations and variables.\n",
      "Only one station chosen with variables=None. Default behavior fetches all variables for this station.\n",
      "Dataframe has been added to the Station object. Please use the .data attribute to access.\n",
      "Geodataframe with all stations has been added to the Station object. Please use the .all_stations attribute to access.\n",
      "Use the .get_data(stations=geodataframe/string/list,variables=string/list,start_date=str,end_date=str) method to fetch data for specific stations and variables.\n",
      "Only one station chosen with variables=None. Default behavior fetches all variables for this station.\n",
      "Dataframe has been added to the Station object. Please use the .data attribute to access.\n",
      "Geodataframe with all stations has been added to the Station object. Please use the .all_stations attribute to access.\n",
      "Use the .get_data(stations=geodataframe/string/list,variables=string/list,start_date=str,end_date=str) method to fetch data for specific stations and variables.\n",
      "Only one station chosen with variables=None. Default behavior fetches all variables for this station.\n",
      "Dataframe has been added to the Station object. Please use the .data attribute to access.\n"
     ]
    },
    {
     "name": "stderr",
     "output_type": "stream",
     "text": [
      "Processing pairs:  29%|██▊       | 2/7 [01:21<03:21, 40.23s/it]"
     ]
    },
    {
     "name": "stdout",
     "output_type": "stream",
     "text": [
      "Geodataframe with all stations has been added to the Station object. Please use the .all_stations attribute to access.\n",
      "Use the .get_data(stations=geodataframe/string/list,variables=string/list,start_date=str,end_date=str) method to fetch data for specific stations and variables.\n",
      "Only one station chosen with variables=None. Default behavior fetches all variables for this station.\n",
      "Dataframe has been added to the Station object. Please use the .data attribute to access.\n",
      "Geodataframe with all stations has been added to the Station object. Please use the .all_stations attribute to access.\n",
      "Use the .get_data(stations=geodataframe/string/list,variables=string/list,start_date=str,end_date=str) method to fetch data for specific stations and variables.\n",
      "Only one station chosen with variables=None. Default behavior fetches all variables for this station.\n",
      "Dataframe has been added to the Station object. Please use the .data attribute to access.\n",
      "Geodataframe with all stations has been added to the Station object. Please use the .all_stations attribute to access.\n",
      "Use the .get_data(stations=geodataframe/string/list,variables=string/list,start_date=str,end_date=str) method to fetch data for specific stations and variables.\n",
      "Only one station chosen with variables=None. Default behavior fetches all variables for this station.\n",
      "Dataframe has been added to the Station object. Please use the .data attribute to access.\n",
      "Geodataframe with all stations has been added to the Station object. Please use the .all_stations attribute to access.\n",
      "Use the .get_data(stations=geodataframe/string/list,variables=string/list,start_date=str,end_date=str) method to fetch data for specific stations and variables.\n",
      "Only one station chosen with variables=None. Default behavior fetches all variables for this station.\n",
      "Dataframe has been added to the Station object. Please use the .data attribute to access.\n",
      "Geodataframe with all stations has been added to the Station object. Please use the .all_stations attribute to access.\n",
      "Use the .get_data(stations=geodataframe/string/list,variables=string/list,start_date=str,end_date=str) method to fetch data for specific stations and variables.\n",
      "Only one station chosen with variables=None. Default behavior fetches all variables for this station.\n",
      "Dataframe has been added to the Station object. Please use the .data attribute to access.\n",
      "Geodataframe with all stations has been added to the Station object. Please use the .all_stations attribute to access.\n",
      "Use the .get_data(stations=geodataframe/string/list,variables=string/list,start_date=str,end_date=str) method to fetch data for specific stations and variables.\n",
      "Only one station chosen with variables=None. Default behavior fetches all variables for this station.\n",
      "Dataframe has been added to the Station object. Please use the .data attribute to access.\n",
      "Geodataframe with all stations has been added to the Station object. Please use the .all_stations attribute to access.\n",
      "Use the .get_data(stations=geodataframe/string/list,variables=string/list,start_date=str,end_date=str) method to fetch data for specific stations and variables.\n",
      "Only one station chosen with variables=None. Default behavior fetches all variables for this station.\n",
      "Dataframe has been added to the Station object. Please use the .data attribute to access.\n"
     ]
    },
    {
     "name": "stderr",
     "output_type": "stream",
     "text": [
      "Processing pairs:  43%|████▎     | 3/7 [01:55<02:30, 37.51s/it]"
     ]
    },
    {
     "name": "stdout",
     "output_type": "stream",
     "text": [
      "Geodataframe with all stations has been added to the Station object. Please use the .all_stations attribute to access.\n",
      "Use the .get_data(stations=geodataframe/string/list,variables=string/list,start_date=str,end_date=str) method to fetch data for specific stations and variables.\n",
      "Only one station chosen with variables=None. Default behavior fetches all variables for this station.\n",
      "Dataframe has been added to the Station object. Please use the .data attribute to access.\n",
      "Geodataframe with all stations has been added to the Station object. Please use the .all_stations attribute to access.\n",
      "Use the .get_data(stations=geodataframe/string/list,variables=string/list,start_date=str,end_date=str) method to fetch data for specific stations and variables.\n",
      "Only one station chosen with variables=None. Default behavior fetches all variables for this station.\n",
      "Dataframe has been added to the Station object. Please use the .data attribute to access.\n",
      "Geodataframe with all stations has been added to the Station object. Please use the .all_stations attribute to access.\n",
      "Use the .get_data(stations=geodataframe/string/list,variables=string/list,start_date=str,end_date=str) method to fetch data for specific stations and variables.\n",
      "Only one station chosen with variables=None. Default behavior fetches all variables for this station.\n",
      "Dataframe has been added to the Station object. Please use the .data attribute to access.\n",
      "Geodataframe with all stations has been added to the Station object. Please use the .all_stations attribute to access.\n",
      "Use the .get_data(stations=geodataframe/string/list,variables=string/list,start_date=str,end_date=str) method to fetch data for specific stations and variables.\n",
      "Only one station chosen with variables=None. Default behavior fetches all variables for this station.\n",
      "Dataframe has been added to the Station object. Please use the .data attribute to access.\n",
      "Geodataframe with all stations has been added to the Station object. Please use the .all_stations attribute to access.\n",
      "Use the .get_data(stations=geodataframe/string/list,variables=string/list,start_date=str,end_date=str) method to fetch data for specific stations and variables.\n",
      "Only one station chosen with variables=None. Default behavior fetches all variables for this station.\n",
      "Dataframe has been added to the Station object. Please use the .data attribute to access.\n",
      "Geodataframe with all stations has been added to the Station object. Please use the .all_stations attribute to access.\n",
      "Use the .get_data(stations=geodataframe/string/list,variables=string/list,start_date=str,end_date=str) method to fetch data for specific stations and variables.\n",
      "Only one station chosen with variables=None. Default behavior fetches all variables for this station.\n",
      "Dataframe has been added to the Station object. Please use the .data attribute to access.\n",
      "Geodataframe with all stations has been added to the Station object. Please use the .all_stations attribute to access.\n",
      "Use the .get_data(stations=geodataframe/string/list,variables=string/list,start_date=str,end_date=str) method to fetch data for specific stations and variables.\n",
      "Only one station chosen with variables=None. Default behavior fetches all variables for this station.\n",
      "Dataframe has been added to the Station object. Please use the .data attribute to access.\n"
     ]
    },
    {
     "name": "stderr",
     "output_type": "stream",
     "text": [
      "Processing pairs:  57%|█████▋    | 4/7 [02:29<01:48, 36.28s/it]"
     ]
    },
    {
     "name": "stdout",
     "output_type": "stream",
     "text": [
      "Geodataframe with all stations has been added to the Station object. Please use the .all_stations attribute to access.\n",
      "Use the .get_data(stations=geodataframe/string/list,variables=string/list,start_date=str,end_date=str) method to fetch data for specific stations and variables.\n",
      "Only one station chosen with variables=None. Default behavior fetches all variables for this station.\n",
      "Dataframe has been added to the Station object. Please use the .data attribute to access.\n",
      "Geodataframe with all stations has been added to the Station object. Please use the .all_stations attribute to access.\n",
      "Use the .get_data(stations=geodataframe/string/list,variables=string/list,start_date=str,end_date=str) method to fetch data for specific stations and variables.\n",
      "Only one station chosen with variables=None. Default behavior fetches all variables for this station.\n",
      "Dataframe has been added to the Station object. Please use the .data attribute to access.\n",
      "Geodataframe with all stations has been added to the Station object. Please use the .all_stations attribute to access.\n",
      "Use the .get_data(stations=geodataframe/string/list,variables=string/list,start_date=str,end_date=str) method to fetch data for specific stations and variables.\n",
      "Only one station chosen with variables=None. Default behavior fetches all variables for this station.\n",
      "Dataframe has been added to the Station object. Please use the .data attribute to access.\n",
      "Geodataframe with all stations has been added to the Station object. Please use the .all_stations attribute to access.\n",
      "Use the .get_data(stations=geodataframe/string/list,variables=string/list,start_date=str,end_date=str) method to fetch data for specific stations and variables.\n",
      "Only one station chosen with variables=None. Default behavior fetches all variables for this station.\n",
      "Dataframe has been added to the Station object. Please use the .data attribute to access.\n",
      "Geodataframe with all stations has been added to the Station object. Please use the .all_stations attribute to access.\n",
      "Use the .get_data(stations=geodataframe/string/list,variables=string/list,start_date=str,end_date=str) method to fetch data for specific stations and variables.\n",
      "Only one station chosen with variables=None. Default behavior fetches all variables for this station.\n",
      "Dataframe has been added to the Station object. Please use the .data attribute to access.\n",
      "Geodataframe with all stations has been added to the Station object. Please use the .all_stations attribute to access.\n",
      "Use the .get_data(stations=geodataframe/string/list,variables=string/list,start_date=str,end_date=str) method to fetch data for specific stations and variables.\n",
      "Only one station chosen with variables=None. Default behavior fetches all variables for this station.\n",
      "Dataframe has been added to the Station object. Please use the .data attribute to access.\n",
      "Geodataframe with all stations has been added to the Station object. Please use the .all_stations attribute to access.\n",
      "Use the .get_data(stations=geodataframe/string/list,variables=string/list,start_date=str,end_date=str) method to fetch data for specific stations and variables.\n",
      "Only one station chosen with variables=None. Default behavior fetches all variables for this station.\n",
      "Dataframe has been added to the Station object. Please use the .data attribute to access.\n"
     ]
    },
    {
     "name": "stderr",
     "output_type": "stream",
     "text": [
      "Processing pairs:  71%|███████▏  | 5/7 [03:07<01:13, 36.74s/it]"
     ]
    },
    {
     "name": "stdout",
     "output_type": "stream",
     "text": [
      "Geodataframe with all stations has been added to the Station object. Please use the .all_stations attribute to access.\n",
      "Use the .get_data(stations=geodataframe/string/list,variables=string/list,start_date=str,end_date=str) method to fetch data for specific stations and variables.\n",
      "Only one station chosen with variables=None. Default behavior fetches all variables for this station.\n",
      "Dataframe has been added to the Station object. Please use the .data attribute to access.\n",
      "Geodataframe with all stations has been added to the Station object. Please use the .all_stations attribute to access.\n",
      "Use the .get_data(stations=geodataframe/string/list,variables=string/list,start_date=str,end_date=str) method to fetch data for specific stations and variables.\n",
      "Only one station chosen with variables=None. Default behavior fetches all variables for this station.\n",
      "Dataframe has been added to the Station object. Please use the .data attribute to access.\n",
      "Geodataframe with all stations has been added to the Station object. Please use the .all_stations attribute to access.\n",
      "Use the .get_data(stations=geodataframe/string/list,variables=string/list,start_date=str,end_date=str) method to fetch data for specific stations and variables.\n",
      "Only one station chosen with variables=None. Default behavior fetches all variables for this station.\n",
      "Dataframe has been added to the Station object. Please use the .data attribute to access.\n",
      "Geodataframe with all stations has been added to the Station object. Please use the .all_stations attribute to access.\n",
      "Use the .get_data(stations=geodataframe/string/list,variables=string/list,start_date=str,end_date=str) method to fetch data for specific stations and variables.\n",
      "Only one station chosen with variables=None. Default behavior fetches all variables for this station.\n",
      "Dataframe has been added to the Station object. Please use the .data attribute to access.\n",
      "Geodataframe with all stations has been added to the Station object. Please use the .all_stations attribute to access.\n",
      "Use the .get_data(stations=geodataframe/string/list,variables=string/list,start_date=str,end_date=str) method to fetch data for specific stations and variables.\n",
      "Only one station chosen with variables=None. Default behavior fetches all variables for this station.\n",
      "Dataframe has been added to the Station object. Please use the .data attribute to access.\n",
      "Geodataframe with all stations has been added to the Station object. Please use the .all_stations attribute to access.\n",
      "Use the .get_data(stations=geodataframe/string/list,variables=string/list,start_date=str,end_date=str) method to fetch data for specific stations and variables.\n",
      "Only one station chosen with variables=None. Default behavior fetches all variables for this station.\n",
      "Dataframe has been added to the Station object. Please use the .data attribute to access.\n",
      "Geodataframe with all stations has been added to the Station object. Please use the .all_stations attribute to access.\n",
      "Use the .get_data(stations=geodataframe/string/list,variables=string/list,start_date=str,end_date=str) method to fetch data for specific stations and variables.\n",
      "Only one station chosen with variables=None. Default behavior fetches all variables for this station.\n",
      "Dataframe has been added to the Station object. Please use the .data attribute to access.\n"
     ]
    },
    {
     "name": "stderr",
     "output_type": "stream",
     "text": [
      "Processing pairs:  86%|████████▌ | 6/7 [03:44<00:36, 36.84s/it]"
     ]
    },
    {
     "name": "stdout",
     "output_type": "stream",
     "text": [
      "Geodataframe with all stations has been added to the Station object. Please use the .all_stations attribute to access.\n",
      "Use the .get_data(stations=geodataframe/string/list,variables=string/list,start_date=str,end_date=str) method to fetch data for specific stations and variables.\n",
      "Only one station chosen with variables=None. Default behavior fetches all variables for this station.\n",
      "Dataframe has been added to the Station object. Please use the .data attribute to access.\n",
      "Geodataframe with all stations has been added to the Station object. Please use the .all_stations attribute to access.\n",
      "Use the .get_data(stations=geodataframe/string/list,variables=string/list,start_date=str,end_date=str) method to fetch data for specific stations and variables.\n",
      "Only one station chosen with variables=None. Default behavior fetches all variables for this station.\n",
      "Dataframe has been added to the Station object. Please use the .data attribute to access.\n",
      "Geodataframe with all stations has been added to the Station object. Please use the .all_stations attribute to access.\n",
      "Use the .get_data(stations=geodataframe/string/list,variables=string/list,start_date=str,end_date=str) method to fetch data for specific stations and variables.\n",
      "Only one station chosen with variables=None. Default behavior fetches all variables for this station.\n",
      "Dataframe has been added to the Station object. Please use the .data attribute to access.\n",
      "Geodataframe with all stations has been added to the Station object. Please use the .all_stations attribute to access.\n",
      "Use the .get_data(stations=geodataframe/string/list,variables=string/list,start_date=str,end_date=str) method to fetch data for specific stations and variables.\n",
      "Only one station chosen with variables=None. Default behavior fetches all variables for this station.\n",
      "Dataframe has been added to the Station object. Please use the .data attribute to access.\n",
      "Geodataframe with all stations has been added to the Station object. Please use the .all_stations attribute to access.\n",
      "Use the .get_data(stations=geodataframe/string/list,variables=string/list,start_date=str,end_date=str) method to fetch data for specific stations and variables.\n",
      "Only one station chosen with variables=None. Default behavior fetches all variables for this station.\n",
      "Dataframe has been added to the Station object. Please use the .data attribute to access.\n",
      "Geodataframe with all stations has been added to the Station object. Please use the .all_stations attribute to access.\n",
      "Use the .get_data(stations=geodataframe/string/list,variables=string/list,start_date=str,end_date=str) method to fetch data for specific stations and variables.\n",
      "Only one station chosen with variables=None. Default behavior fetches all variables for this station.\n",
      "Dataframe has been added to the Station object. Please use the .data attribute to access.\n",
      "Geodataframe with all stations has been added to the Station object. Please use the .all_stations attribute to access.\n",
      "Use the .get_data(stations=geodataframe/string/list,variables=string/list,start_date=str,end_date=str) method to fetch data for specific stations and variables.\n",
      "Only one station chosen with variables=None. Default behavior fetches all variables for this station.\n",
      "Dataframe has been added to the Station object. Please use the .data attribute to access.\n"
     ]
    },
    {
     "name": "stderr",
     "output_type": "stream",
     "text": [
      "Processing pairs: 100%|██████████| 7/7 [04:20<00:00, 37.15s/it]\n"
     ]
    }
   ],
   "source": [
    "# get all our desc files we just downloaded\n",
    "files = sorted(glob.glob('/home/jehayes/sh_final/cslc/desc/*.h5'))\n",
    "# process each consecutive pair\n",
    "for i in tqdm(range(len(files)-1), desc=\"Processing pairs\"):\n",
    "    fn_1 = files[i]\n",
    "    fn_2 = files[i+1]\n",
    "    \n",
    "    # reference dataset\n",
    "    dsR = xr.open_dataset(fn_1, group='data', engine='h5netcdf')['VV'].rename(dict(x_coordinates='x', y_coordinates='y'))\n",
    "    tR = pd.to_datetime(xr.open_dataset(fn_1, group='identification')['zero_doppler_start_time'].data.astype('U'))\n",
    "    # secondary dataset\n",
    "    dsS = xr.open_dataset(fn_2, group='data', engine='h5netcdf')['VV'].rename(dict(x_coordinates='x', y_coordinates='y'))\n",
    "    tS = pd.to_datetime(xr.open_dataset(fn_2, group='identification')['zero_doppler_start_time'].data.astype('U'))   \n",
    "    # topographically corrected phases\n",
    "    with h5py.File(fn_1, 'r') as f:\n",
    "        flat_phase1 = f['data/flattening_phase'][()]\n",
    "        crs = f['/metadata/noise_information/projection'][()]\n",
    "    with h5py.File(fn_2, 'r') as f:\n",
    "        flat_phase2 = f['data/flattening_phase'][()]\n",
    "    # phase difference\n",
    "    diff_flat_phase = flat_phase2 - flat_phase1\n",
    "    da_wrapped_phase = xr.DataArray(\n",
    "        diff_flat_phase,\n",
    "        dims=['y', 'x'],\n",
    "        coords={'y': dsS.y, 'x': dsS.x}\n",
    "    ).rio.write_crs(crs)\n",
    "    # unwrap phase\n",
    "    np_wrapped_phase = da_wrapped_phase.values\n",
    "    np_unwrapped = unwrap_phase_fft(np_wrapped_phase)\n",
    "    da_unwrapped = xr.DataArray(np_unwrapped,\n",
    "                               dims=da_wrapped_phase.dims,\n",
    "                               coords=da_wrapped_phase.coords).rio.write_crs(crs)\n",
    "    da_unwrapped = da_unwrapped.where(~np.isnan(da_wrapped_phase))\n",
    "    da_displacement = da_unwrapped * (wavelength / (4 * np.pi))\n",
    "    \n",
    "    # process SNOTEL data\n",
    "    results = []\n",
    "    for code in sntl_codes:\n",
    "        snotel = esd.automatic_weather_stations.StationCollection()\n",
    "        snotel.get_data(code)\n",
    "        df_snotel = snotel.data\n",
    "        \n",
    "        swe_reference, swe_secondary = df_snotel.loc[[tR.date(), tS.date()], \"WTEQ\"]\n",
    "        swe_diff = swe_secondary - swe_reference\n",
    "        \n",
    "        snotel_point = gf_snotel_co.loc[gf_snotel_co['code'] == code, 'geometry'].item()\n",
    "        snotel_los_disp = da_displacement.interp(x=snotel_point.x, y=snotel_point.y, method=\"linear\").item()\n",
    "        \n",
    "        results.append({\n",
    "            'sntl_code': code,\n",
    "            'reference_date': tR.date(),\n",
    "            'secondary_date': tS.date(),\n",
    "            'snotel_los_disp': snotel_los_disp,\n",
    "            'swe_diff': swe_diff\n",
    "        })\n",
    "    # save DataFrame\n",
    "    df_swe = pd.DataFrame(results)\n",
    "    output_filename = f\"../data/{tR.date()}_{tS.date()}_desc_swe_disp.parquet\"\n",
    "    df_swe.to_parquet(output_filename)"
   ]
  },
  {
   "cell_type": "code",
   "execution_count": 158,
   "metadata": {},
   "outputs": [
    {
     "data": {
      "text/plain": [
       "49"
      ]
     },
     "execution_count": 158,
     "metadata": {},
     "output_type": "execute_result"
    }
   ],
   "source": [
    "df_swe_co_desc = pd.concat([pd.read_parquet(f) for f in glob.glob(\"../data/*desc*.parquet\")], ignore_index=True)\n",
    "len(df_swe_co_desc)"
   ]
  },
  {
   "cell_type": "code",
   "execution_count": 160,
   "metadata": {},
   "outputs": [
    {
     "data": {
      "image/png": "[encoded data removed]",
      "text/plain": [
       "<Figure size 640x480 with 1 Axes>"
      ]
     },
     "metadata": {},
     "output_type": "display_data"
    }
   ],
   "source": [
    "# that's also not great\n",
    "plt.scatter(x=df_swe_co_desc.snotel_los_disp,\n",
    "            y=df_swe_co_desc.swe_diff)\n",
    "plt.ylabel(\"SWE\")\n",
    "plt.xlabel(\"LOS Displacement\")\n",
    "plt.title(\"SWE vs InSAR Displacement\\nSouthwest Colorado Jan-March 2018 (desc)\");"
   ]
  },
  {
   "cell_type": "code",
   "execution_count": 161,
   "metadata": {},
   "outputs": [],
   "source": [
    "df_swe_co_jan_mar['track'] = 'asc'\n",
    "df_swe_co_desc['track'] = 'desc'"
   ]
  },
  {
   "cell_type": "code",
   "execution_count": 162,
   "metadata": {},
   "outputs": [],
   "source": [
    "df_co_swe_disp = pd.concat([df_swe_co_jan_mar, df_swe_co_desc], ignore_index=True)"
   ]
  },
  {
   "cell_type": "code",
   "execution_count": null,
   "metadata": {},
   "outputs": [
    {
     "data": {
      "image/png": "[encoded data removed]",
      "text/plain": [
       "<Figure size 1000x600 with 1 Axes>"
      ]
     },
     "metadata": {},
     "output_type": "display_data"
    }
   ],
   "source": [
    "# welp\n",
    "plt.figure(figsize=(10, 6))\n",
    "for track_type in df_co_swe_disp[\"track\"].unique():\n",
    "    mask = df_co_swe_disp[\"track\"] == track_type\n",
    "    plt.scatter(x=df_co_swe_disp.loc[mask, \"snotel_los_disp\"],\n",
    "                y=df_co_swe_disp.loc[mask, \"swe_diff\"],\n",
    "                label=track_type, alpha=0.7)\n",
    "\n",
    "plt.ylabel(\"SWE\")\n",
    "plt.xlabel(\"LOS Displacement\")\n",
    "plt.title(\"SWE vs InSAR Displacement\\nSouthwest Colorado Jan-March 2018 (asc & desc)\")\n",
    "plt.legend();"
   ]
  },
  {
   "cell_type": "code",
   "execution_count": null,
   "metadata": {},
   "outputs": [],
   "source": [
    "# TODO: spend the rest of the project diving into why this doesn't work\n",
    "# we sort of know the answer, but let's try and relate it to the snowpack characteristics\n",
    "# and dielectric properties"
   ]
  }
 ],
 "metadata": {
  "kernelspec": {
   "display_name": "coincident",
   "language": "python",
   "name": "python3"
  },
  "language_info": {
   "codemirror_mode": {
    "name": "ipython",
    "version": 3
   },
   "file_extension": ".py",
   "mimetype": "text/x-python",
   "name": "python",
   "nbconvert_exporter": "python",
   "pygments_lexer": "ipython3",
   "version": "3.12.5"
  }
 },
 "nbformat": 4,
 "nbformat_minor": 2
}
